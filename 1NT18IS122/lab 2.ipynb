{
 "cells": [
  {
   "cell_type": "code",
   "execution_count": 26,
   "metadata": {},
   "outputs": [
    {
     "data": {
      "text/plain": [
       "4"
      ]
     },
     "execution_count": 26,
     "metadata": {},
     "output_type": "execute_result"
    }
   ],
   "source": [
    "l = [100,200,300,400]\n",
    "len(l)"
   ]
  },
  {
   "cell_type": "code",
   "execution_count": 27,
   "metadata": {},
   "outputs": [],
   "source": [
    "def mean(l):\n",
    "    sum = 0\n",
    "    for i in range(len(l)):\n",
    "        sum+=l[i]\n",
    "    mean = sum/len(l)\n",
    "    return mean"
   ]
  },
  {
   "cell_type": "code",
   "execution_count": 28,
   "metadata": {},
   "outputs": [
    {
     "data": {
      "text/plain": [
       "250.0"
      ]
     },
     "execution_count": 28,
     "metadata": {},
     "output_type": "execute_result"
    }
   ],
   "source": [
    "mean(l)"
   ]
  },
  {
   "cell_type": "code",
   "execution_count": 29,
   "metadata": {},
   "outputs": [],
   "source": [
    "import math\n",
    "def std_dev(l,m):\n",
    "    sd = 0\n",
    "    for i in range(len(l)):\n",
    "        sd = sd+ (m - l[i])**2\n",
    "    sd = sd/len(l)    \n",
    "    return math.sqrt(sd)  \n",
    "    "
   ]
  },
  {
   "cell_type": "code",
   "execution_count": 30,
   "metadata": {},
   "outputs": [
    {
     "data": {
      "text/plain": [
       "111.80339887498948"
      ]
     },
     "execution_count": 30,
     "metadata": {},
     "output_type": "execute_result"
    }
   ],
   "source": [
    "std_dev(l,250)"
   ]
  },
  {
   "cell_type": "code",
   "execution_count": 31,
   "metadata": {},
   "outputs": [],
   "source": [
    "import numpy as np"
   ]
  },
  {
   "cell_type": "code",
   "execution_count": 32,
   "metadata": {},
   "outputs": [
    {
     "data": {
      "text/plain": [
       "111.80339887498948"
      ]
     },
     "execution_count": 32,
     "metadata": {},
     "output_type": "execute_result"
    }
   ],
   "source": [
    "sd = np.std(l)\n",
    "sd"
   ]
  },
  {
   "cell_type": "code",
   "execution_count": 33,
   "metadata": {},
   "outputs": [
    {
     "data": {
      "text/plain": [
       "250.0"
      ]
     },
     "execution_count": 33,
     "metadata": {},
     "output_type": "execute_result"
    }
   ],
   "source": [
    "m = np.mean(l)\n",
    "m"
   ]
  },
  {
   "cell_type": "code",
   "execution_count": 37,
   "metadata": {},
   "outputs": [
    {
     "name": "stdout",
     "output_type": "stream",
     "text": [
      "[100, 200, 300, 400] : [0.0, 0.3333333333333333, 0.6666666666666666, 1.0]\n"
     ]
    }
   ],
   "source": [
    "def standard(l):\n",
    "    maxx = max(l)\n",
    "    minn = min(l)\n",
    "    normal = []\n",
    "    for x in l:\n",
    "        nor = (x-minn)/(maxx-minn)\n",
    "        normal.append(nor)\n",
    "    return normal\n",
    "k = standard(l)\n",
    "print(\"{} : {}\".format(l,k))"
   ]
  },
  {
   "cell_type": "code",
   "execution_count": 35,
   "metadata": {},
   "outputs": [],
   "source": [
    "arr = [10, 23, 3, 45, 121, 7, 13, 76, 42, 89]"
   ]
  },
  {
   "cell_type": "code",
   "execution_count": 21,
   "metadata": {},
   "outputs": [
    {
     "name": "stdout",
     "output_type": "stream",
     "text": [
      "Before Normalising  [10, 23, 3, 45, 121, 7, 13, 76, 42, 89]\n",
      "After Normalising  [0.06, 0.17, 0.0, 0.36, 1.0, 0.03, 0.08, 0.62, 0.33, 0.73]\n"
     ]
    }
   ],
   "source": [
    "# User defined Normalizer for 1D array\n",
    "norm = []\n",
    "mx = max(arr)\n",
    "mn = min(arr)\n",
    "\n",
    "for i in range(len(arr)):\n",
    "    s = (arr[i] - mn) / (mx - mn)\n",
    "    norm.append(round(s, 2))\n",
    "\n",
    "print(\"Before Normalising \", arr)\n",
    "print(\"After Normalising \", norm)"
   ]
  },
  {
   "cell_type": "code",
   "execution_count": 22,
   "metadata": {},
   "outputs": [
    {
     "name": "stdout",
     "output_type": "stream",
     "text": [
      "[[1.         0.        ]\n",
      " [0.04166667 0.1       ]\n",
      " [0.47916667 0.6       ]\n",
      " [0.79166667 0.4       ]\n",
      " [0.         1.        ]]\n"
     ]
    }
   ],
   "source": [
    "# Inbuilt normalizer for 2D array\n",
    "\n",
    "from numpy import asarray\n",
    "from sklearn.preprocessing import MinMaxScaler\n",
    "\n",
    "data = asarray( [[100, 1], [8, 5], [50, 25], [80, 17], [4, 41]])\n",
    "scaler = MinMaxScaler()\n",
    "scaled = scaler.fit(data)\n",
    "print(scaled.transform(data))"
   ]
  },
  {
   "cell_type": "code",
   "execution_count": 23,
   "metadata": {},
   "outputs": [
    {
     "name": "stdout",
     "output_type": "stream",
     "text": [
      "2 5\n",
      "[[1.0, 0.0], [1.0, 0.0], [1.0, 0.0], [1.0, 0.0], [0.0, 1.0]]\n"
     ]
    }
   ],
   "source": [
    "# User defined Normalizer for 2D array\n",
    "# custom Normalizer\n",
    "\n",
    "def Normaliser(arr):\n",
    "    norm = []\n",
    "    print(len(arr[0]), len(arr))\n",
    "    for i in arr:\n",
    "        t = []\n",
    "        for j in i:\n",
    "            t.append(j)\n",
    "            \n",
    "        mx = max(t)\n",
    "        mn = min(t)\n",
    "        \n",
    "        temp = []\n",
    "        for i in range(len(t)):\n",
    "            s = (t[i] - mn) / (mx - mn)\n",
    "            temp.append(round(s, 2))\n",
    "        \n",
    "        norm.append(temp)\n",
    "        \n",
    "    print(norm)\n",
    "\n",
    "Normaliser(data)"
   ]
  },
  {
   "cell_type": "code",
   "execution_count": 24,
   "metadata": {},
   "outputs": [],
   "source": [
    "import statistics as st"
   ]
  },
  {
   "cell_type": "code",
   "execution_count": 25,
   "metadata": {},
   "outputs": [
    {
     "data": {
      "text/plain": [
       "250"
      ]
     },
     "execution_count": 25,
     "metadata": {},
     "output_type": "execute_result"
    }
   ],
   "source": [
    "st.mean(l)"
   ]
  },
  {
   "cell_type": "code",
   "execution_count": null,
   "metadata": {},
   "outputs": [],
   "source": []
  },
  {
   "cell_type": "code",
   "execution_count": null,
   "metadata": {},
   "outputs": [],
   "source": []
  },
  {
   "cell_type": "code",
   "execution_count": null,
   "metadata": {},
   "outputs": [],
   "source": []
  }
 ],
 "metadata": {
  "kernelspec": {
   "display_name": "Python 3",
   "language": "python",
   "name": "python3"
  },
  "language_info": {
   "codemirror_mode": {
    "name": "ipython",
    "version": 3
   },
   "file_extension": ".py",
   "mimetype": "text/x-python",
   "name": "python",
   "nbconvert_exporter": "python",
   "pygments_lexer": "ipython3",
   "version": "3.8.10"
  }
 },
 "nbformat": 4,
 "nbformat_minor": 4
}
