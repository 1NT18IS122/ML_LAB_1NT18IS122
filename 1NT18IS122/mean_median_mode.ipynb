{
  "nbformat": 4,
  "nbformat_minor": 0,
  "metadata": {
    "colab": {
      "name": "mean_median_mode.ipynb",
      "provenance": [],
      "authorship_tag": "ABX9TyOJyu39rX1lGIi4b6docjor",
      "include_colab_link": true
    },
    "kernelspec": {
      "name": "python3",
      "display_name": "Python 3"
    },
    "language_info": {
      "name": "python"
    }
  },
  "cells": [
    {
      "cell_type": "markdown",
      "metadata": {
        "id": "view-in-github",
        "colab_type": "text"
      },
      "source": [
        "<a href=\"https://colab.research.google.com/github/1NT18IS072/ml_lab-A3/blob/main/mean_median_mode.ipynb\" target=\"_parent\"><img src=\"https://colab.research.google.com/assets/colab-badge.svg\" alt=\"Open In Colab\"/></a>"
      ]
    },
    {
      "cell_type": "code",
      "execution_count": 2,
      "metadata": {
        "colab": {
          "base_uri": "https://localhost:8080/"
        },
        "id": "SRIbT9zVLP6q",
        "outputId": "d377b2da-e3d0-4dd2-fff3-d87524b9e130"
      },
      "outputs": [
        {
          "output_type": "stream",
          "name": "stdout",
          "text": [
            "without libraray\n",
            "Mean is 2.375\n",
            "Mode is 3\n",
            "Variance is 1.125\n",
            "S.D is 1.0606601717798212\n",
            "Median is 2.5\n",
            "\n",
            "\n",
            "using library\n",
            "mean  2.375\n",
            "mode 3\n",
            "varience 1.125\n",
            "standard deviation 1.0606601717798212\n",
            "median 2.5\n"
          ]
        }
      ],
      "source": [
        "import math\n",
        "l=[1,2,3,4,1,2,3,3]\n",
        "n=len(l)\n",
        "sum=0\n",
        "\n",
        "#mean\n",
        "for i in l:\n",
        "    sum=sum+i\n",
        "mean=sum/n\n",
        "print(\"without libraray\")\n",
        "print(\"Mean is\",mean)\n",
        "\n",
        "#mode\n",
        "fr=[0]*max(l)\n",
        "for ele in l:\n",
        "    fr[ele-1]+=1\n",
        "m=fr.index(max(fr))+1\n",
        "\n",
        "    \n",
        "print(\"Mode is\",m)\n",
        "   \n",
        "#S.D and variance\n",
        "sum=0\n",
        "for i in l:\n",
        "     sum+=pow((i-mean),2)\n",
        "print(\"Variance is\",sum/(n-1))\n",
        "print(\"S.D is\",math.sqrt(sum/(n-1)))\n",
        "\n",
        "#median\n",
        "l.sort()\n",
        "\n",
        "if(n%2==1):\n",
        "    k=math.floor(n/2)\n",
        "    print(\"Median is\",l[k])\n",
        "else:\n",
        "    m=int(n/2)\n",
        "    a=l[m]+l[m-1]\n",
        "    print(\"Median is\",a/2)\n",
        "\n",
        "\n",
        "import statistics as st\n",
        "l1=[1,2,3,4,1,2,3,3]\n",
        "print(\"\\n\\nusing library\")\n",
        "print(\"mean \",st.mean(l1))\n",
        "print(\"mode\",st.mode(l1))\n",
        "print(\"varience\",st.variance(l1))\n",
        "print(\"standard deviation\",st.stdev(l1))\n",
        "print(\"median\",st.median(l1))"
      ]
    },
    {
      "cell_type": "code",
      "source": [
        ""
      ],
      "metadata": {
        "id": "1d3opLdoL4VV"
      },
      "execution_count": null,
      "outputs": []
    }
  ]
}