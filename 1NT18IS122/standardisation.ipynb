{
  "nbformat": 4,
  "nbformat_minor": 0,
  "metadata": {
    "colab": {
      "name": "standardisation.ipynb",
      "provenance": [],
      "authorship_tag": "ABX9TyNigQNM4tRmF7zAblavRBcv",
      "include_colab_link": true
    },
    "kernelspec": {
      "name": "python3",
      "display_name": "Python 3"
    },
    "language_info": {
      "name": "python"
    }
  },
  "cells": [
    {
      "cell_type": "markdown",
      "metadata": {
        "id": "view-in-github",
        "colab_type": "text"
      },
      "source": [
        "<a href=\"https://colab.research.google.com/github/1NT18IS072/ml_lab-A3/blob/main/standardisation.ipynb\" target=\"_parent\"><img src=\"https://colab.research.google.com/assets/colab-badge.svg\" alt=\"Open In Colab\"/></a>"
      ]
    },
    {
      "cell_type": "code",
      "execution_count": null,
      "metadata": {
        "id": "NN5-C70ysNqK"
      },
      "outputs": [],
      "source": [
        "def find(arr):\n",
        "  sum1=0\n",
        "  arr.sort()\n",
        "  for i in arr:\n",
        "    sum1+=i\n",
        "  mean = sum1/len(arr)\n",
        "\n",
        "  if len(arr)%2 ==0:\n",
        "    median=arr[int(len(arr)/2)-1]+arr[int(len(arr)/2)]\n",
        "  else :\n",
        "    median =arr[int(len(arr)/2)]\n",
        "  f =[0]*max(arr)\n",
        "  for ele in arr:\n",
        "    f[ele-1]+=1\n",
        "  mode = f.index(max(f))+1\n",
        "  print(\"mean:\",mean,\"\\nmedian:\",median,\"\\nmode:\",mode)"
      ]
    },
    {
      "cell_type": "code",
      "source": [
        "arr=[1,4,3,5,4,2,4,4]\n",
        "find(arr)"
      ],
      "metadata": {
        "colab": {
          "base_uri": "https://localhost:8080/"
        },
        "id": "XCLAPTBPteVt",
        "outputId": "c22bfc7a-84bd-4515-dec9-7eaf7fa17db0"
      },
      "execution_count": null,
      "outputs": [
        {
          "output_type": "stream",
          "name": "stdout",
          "text": [
            "mean: 3.375 \n",
            "median: 8 \n",
            "mode: 4\n"
          ]
        }
      ]
    },
    {
      "cell_type": "code",
      "source": [
        "def vaience(l):\n",
        "  sum2=0\n",
        "  j=0\n",
        "  for i in l:\n",
        "    j+=i\n",
        "  mean = j/len(l)\n",
        "  for ele in l:\n",
        "    sum2+=pow((mean-ele),2)\n",
        "  varience = sum2/(len(l)-1)\n",
        "  sd = mt.sqrt(varience)\n",
        "  print(\"varience:\", varience,\"\\nSD:\",sd)\n"
      ],
      "metadata": {
        "id": "5Os8ZhWLuEmk"
      },
      "execution_count": null,
      "outputs": []
    },
    {
      "cell_type": "code",
      "source": [
        "import math as mt\n",
        "l=[2,4,6,8]\n",
        "vaience(l)"
      ],
      "metadata": {
        "colab": {
          "base_uri": "https://localhost:8080/"
        },
        "id": "OKpF4WIUu6q9",
        "outputId": "ec93f540-59e3-42e7-a8c5-a86e06d802bd"
      },
      "execution_count": null,
      "outputs": [
        {
          "output_type": "stream",
          "name": "stdout",
          "text": [
            "varience: 6.666666666666667 \n",
            "SD: 2.581988897471611\n"
          ]
        }
      ]
    },
    {
      "cell_type": "code",
      "source": [
        "from sklearn.preprocessing import Normalizer\n",
        "l=[[4,1,2,2],[1,3,9,3],[5,7,5,1]]\n",
        "print(Normalizer().fit_transform(l))\n",
        "print(Normalizer().fit_transform(l).mean())\n",
        "print(Normalizer().fit_transform(l).std())"
      ],
      "metadata": {
        "colab": {
          "base_uri": "https://localhost:8080/"
        },
        "id": "0EZFSLU6wIif",
        "outputId": "2ace3e5c-f228-4b54-a3ed-d91c2eb38c41"
      },
      "execution_count": null,
      "outputs": [
        {
          "output_type": "stream",
          "name": "stdout",
          "text": [
            "[[0.8 0.2 0.4 0.4]\n",
            " [0.1 0.3 0.9 0.3]\n",
            " [0.5 0.7 0.5 0.1]]\n",
            "0.43333333333333335\n",
            "0.24944382578492946\n"
          ]
        }
      ]
    },
    {
      "cell_type": "code",
      "source": [
        "from sklearn.preprocessing import StandardScaler\n",
        "data = [[0, 0], [0, 0], [1, 1], [1, 1]]\n",
        "print(StandardScaler().fit_transform(data))\n",
        "print(StandardScaler().fit_transform(data).mean(axis=0))\n",
        "print(StandardScaler().fit_transform(data).std())"
      ],
      "metadata": {
        "colab": {
          "base_uri": "https://localhost:8080/"
        },
        "id": "_fEdh4eAwR9B",
        "outputId": "0ee7b1eb-0198-44ac-fafa-d891dad37737"
      },
      "execution_count": null,
      "outputs": [
        {
          "output_type": "stream",
          "name": "stdout",
          "text": [
            "[[-1. -1.]\n",
            " [-1. -1.]\n",
            " [ 1.  1.]\n",
            " [ 1.  1.]]\n",
            "[0. 0.]\n",
            "1.0\n"
          ]
        }
      ]
    },
    {
      "cell_type": "code",
      "source": [
        ""
      ],
      "metadata": {
        "id": "Sva6hio2wSmD"
      },
      "execution_count": null,
      "outputs": []
    }
  ]
}