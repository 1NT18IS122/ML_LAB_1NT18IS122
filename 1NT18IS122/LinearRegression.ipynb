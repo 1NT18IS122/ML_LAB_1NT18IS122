{
  "nbformat": 4,
  "nbformat_minor": 0,
  "metadata": {
    "colab": {
      "name": "LinearRegression.ipynb",
      "provenance": [],
      "authorship_tag": "ABX9TyP67zCOkgiI6aXfdomVtO6L",
      "include_colab_link": true
    },
    "kernelspec": {
      "name": "python3",
      "display_name": "Python 3"
    },
    "language_info": {
      "name": "python"
    }
  },
  "cells": [
    {
      "cell_type": "markdown",
      "metadata": {
        "id": "view-in-github",
        "colab_type": "text"
      },
      "source": [
        "<a href=\"https://colab.research.google.com/github/1NT18IS072/ml_lab-A3/blob/main/LinearRegression.ipynb\" target=\"_parent\"><img src=\"https://colab.research.google.com/assets/colab-badge.svg\" alt=\"Open In Colab\"/></a>"
      ]
    },
    {
      "cell_type": "code",
      "execution_count": 2,
      "metadata": {
        "id": "C1kIQTOLDaJm"
      },
      "outputs": [],
      "source": [
        "import pandas as pd\n",
        "import numpy as np\n",
        "data=pd.read_csv('/content/sample_data/Food-Truck-LineReg.csv')\n",
        "x1=data['x'].values\n",
        "y1=data['y'].values\n",
        "import matplotlib.pyplot as plt\n",
        "import scipy.stats"
      ]
    },
    {
      "cell_type": "code",
      "source": [
        "r=scipy.stats.pearsonr(x1, y1)[0]\n",
        "std_x=np.std(x1)\n",
        "std_y=np.std(y1)\n",
        "m = r *(std_y/std_x)\n",
        "C = np.mean(y1)-m*np.mean(x1)\n",
        "Y_pred = m*(x1)+C\n",
        "plt.scatter(x1, y1)\n",
        "plt.plot(x1, Y_pred, color=\"red\")\n",
        "plt.show()\n",
        "sub=((y1-Y_pred)**2)\n",
        "sse=sum(sub)\n",
        "sse\n",
        "mean_y = np.mean(y1)\n",
        "sub1= ((Y_pred - mean_y)**2)\n",
        "ssr = sum(sub1)\n",
        "ssr\n",
        "sub2=((y1-mean_y)**2)\n",
        "sst=sum(sub2)\n",
        "sst\n",
        "R=ssr/sst\n",
        "print(\"R_square is\",R)\n",
        "print(\"sum squared error =\",sse)\n",
        "print(\"ssr =\",ssr)\n",
        "print(\"sst =\",sst)\n",
        "print(\"coefficient =\",r)"
      ],
      "metadata": {
        "colab": {
          "base_uri": "https://localhost:8080/",
          "height": 353
        },
        "id": "fobucvjSEC4Q",
        "outputId": "5e4a4249-b2a9-45e8-f202-922622f80365"
      },
      "execution_count": 3,
      "outputs": [
        {
          "output_type": "display_data",
          "data": {
            "image/png": "[encoded data removed]",
            "text/plain": [
              "<Figure size 432x288 with 1 Axes>"
            ]
          },
          "metadata": {
            "needs_background": "light"
          }
        },
        {
          "output_type": "stream",
          "name": "stdout",
          "text": [
            "R_square is 0.7020315537841398\n",
            "sum squared error = 868.5324469391842\n",
            "ssr = 2046.3146047180403\n",
            "sst = 2914.8470516572247\n",
            "coefficient = 0.8378732325263407\n"
          ]
        }
      ]
    }
  ]
}